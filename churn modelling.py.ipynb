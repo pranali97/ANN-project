{
 "cells": [
  {
   "cell_type": "markdown",
   "id": "1635905d",
   "metadata": {},
   "source": [
    "# Artificial Neural Network\n"
   ]
  },
  {
   "cell_type": "code",
   "execution_count": 1,
   "id": "1f05845b",
   "metadata": {},
   "outputs": [],
   "source": [
    "#Importing the libraries\n",
    "import pandas as pd\n",
    "import numpy as np\n",
    "import matplotlib.pyplot as plt "
   ]
  },
  {
   "cell_type": "code",
   "execution_count": 2,
   "id": "af9c8487",
   "metadata": {},
   "outputs": [],
   "source": [
    "#Importing the dataset\n",
    "dataset = pd.read_csv(\"Churn_Modelling.csv\")"
   ]
  },
  {
   "cell_type": "code",
   "execution_count": 3,
   "id": "a2427d06",
   "metadata": {},
   "outputs": [
    {
     "data": {
      "text/html": [
       "<div>\n",
       "<style scoped>\n",
       "    .dataframe tbody tr th:only-of-type {\n",
       "        vertical-align: middle;\n",
       "    }\n",
       "\n",
       "    .dataframe tbody tr th {\n",
       "        vertical-align: top;\n",
       "    }\n",
       "\n",
       "    .dataframe thead th {\n",
       "        text-align: right;\n",
       "    }\n",
       "</style>\n",
       "<table border=\"1\" class=\"dataframe\">\n",
       "  <thead>\n",
       "    <tr style=\"text-align: right;\">\n",
       "      <th></th>\n",
       "      <th>RowNumber</th>\n",
       "      <th>CustomerId</th>\n",
       "      <th>Surname</th>\n",
       "      <th>CreditScore</th>\n",
       "      <th>Geography</th>\n",
       "      <th>Gender</th>\n",
       "      <th>Age</th>\n",
       "      <th>Tenure</th>\n",
       "      <th>Balance</th>\n",
       "      <th>NumOfProducts</th>\n",
       "      <th>HasCrCard</th>\n",
       "      <th>IsActiveMember</th>\n",
       "      <th>EstimatedSalary</th>\n",
       "      <th>Exited</th>\n",
       "    </tr>\n",
       "  </thead>\n",
       "  <tbody>\n",
       "    <tr>\n",
       "      <th>0</th>\n",
       "      <td>1</td>\n",
       "      <td>15634602</td>\n",
       "      <td>Hargrave</td>\n",
       "      <td>619</td>\n",
       "      <td>France</td>\n",
       "      <td>Female</td>\n",
       "      <td>42</td>\n",
       "      <td>2</td>\n",
       "      <td>0.00</td>\n",
       "      <td>1</td>\n",
       "      <td>1</td>\n",
       "      <td>1</td>\n",
       "      <td>101348.88</td>\n",
       "      <td>1</td>\n",
       "    </tr>\n",
       "    <tr>\n",
       "      <th>1</th>\n",
       "      <td>2</td>\n",
       "      <td>15647311</td>\n",
       "      <td>Hill</td>\n",
       "      <td>608</td>\n",
       "      <td>Spain</td>\n",
       "      <td>Female</td>\n",
       "      <td>41</td>\n",
       "      <td>1</td>\n",
       "      <td>83807.86</td>\n",
       "      <td>1</td>\n",
       "      <td>0</td>\n",
       "      <td>1</td>\n",
       "      <td>112542.58</td>\n",
       "      <td>0</td>\n",
       "    </tr>\n",
       "    <tr>\n",
       "      <th>2</th>\n",
       "      <td>3</td>\n",
       "      <td>15619304</td>\n",
       "      <td>Onio</td>\n",
       "      <td>502</td>\n",
       "      <td>France</td>\n",
       "      <td>Female</td>\n",
       "      <td>42</td>\n",
       "      <td>8</td>\n",
       "      <td>159660.80</td>\n",
       "      <td>3</td>\n",
       "      <td>1</td>\n",
       "      <td>0</td>\n",
       "      <td>113931.57</td>\n",
       "      <td>1</td>\n",
       "    </tr>\n",
       "    <tr>\n",
       "      <th>3</th>\n",
       "      <td>4</td>\n",
       "      <td>15701354</td>\n",
       "      <td>Boni</td>\n",
       "      <td>699</td>\n",
       "      <td>France</td>\n",
       "      <td>Female</td>\n",
       "      <td>39</td>\n",
       "      <td>1</td>\n",
       "      <td>0.00</td>\n",
       "      <td>2</td>\n",
       "      <td>0</td>\n",
       "      <td>0</td>\n",
       "      <td>93826.63</td>\n",
       "      <td>0</td>\n",
       "    </tr>\n",
       "    <tr>\n",
       "      <th>4</th>\n",
       "      <td>5</td>\n",
       "      <td>15737888</td>\n",
       "      <td>Mitchell</td>\n",
       "      <td>850</td>\n",
       "      <td>Spain</td>\n",
       "      <td>Female</td>\n",
       "      <td>43</td>\n",
       "      <td>2</td>\n",
       "      <td>125510.82</td>\n",
       "      <td>1</td>\n",
       "      <td>1</td>\n",
       "      <td>1</td>\n",
       "      <td>79084.10</td>\n",
       "      <td>0</td>\n",
       "    </tr>\n",
       "  </tbody>\n",
       "</table>\n",
       "</div>"
      ],
      "text/plain": [
       "   RowNumber  CustomerId   Surname  CreditScore Geography  Gender  Age  \\\n",
       "0          1    15634602  Hargrave          619    France  Female   42   \n",
       "1          2    15647311      Hill          608     Spain  Female   41   \n",
       "2          3    15619304      Onio          502    France  Female   42   \n",
       "3          4    15701354      Boni          699    France  Female   39   \n",
       "4          5    15737888  Mitchell          850     Spain  Female   43   \n",
       "\n",
       "   Tenure    Balance  NumOfProducts  HasCrCard  IsActiveMember  \\\n",
       "0       2       0.00              1          1               1   \n",
       "1       1   83807.86              1          0               1   \n",
       "2       8  159660.80              3          1               0   \n",
       "3       1       0.00              2          0               0   \n",
       "4       2  125510.82              1          1               1   \n",
       "\n",
       "   EstimatedSalary  Exited  \n",
       "0        101348.88       1  \n",
       "1        112542.58       0  \n",
       "2        113931.57       1  \n",
       "3         93826.63       0  \n",
       "4         79084.10       0  "
      ]
     },
     "execution_count": 3,
     "metadata": {},
     "output_type": "execute_result"
    }
   ],
   "source": [
    "dataset.head()"
   ]
  },
  {
   "cell_type": "code",
   "execution_count": 4,
   "id": "bc0f435c",
   "metadata": {},
   "outputs": [
    {
     "data": {
      "text/plain": [
       "(10000, 14)"
      ]
     },
     "execution_count": 4,
     "metadata": {},
     "output_type": "execute_result"
    }
   ],
   "source": [
    "dataset.shape"
   ]
  },
  {
   "cell_type": "code",
   "execution_count": 5,
   "id": "ecac2250",
   "metadata": {},
   "outputs": [
    {
     "data": {
      "text/plain": [
       "RowNumber          0\n",
       "CustomerId         0\n",
       "Surname            0\n",
       "CreditScore        0\n",
       "Geography          0\n",
       "Gender             0\n",
       "Age                0\n",
       "Tenure             0\n",
       "Balance            0\n",
       "NumOfProducts      0\n",
       "HasCrCard          0\n",
       "IsActiveMember     0\n",
       "EstimatedSalary    0\n",
       "Exited             0\n",
       "dtype: int64"
      ]
     },
     "execution_count": 5,
     "metadata": {},
     "output_type": "execute_result"
    }
   ],
   "source": [
    "dataset.isnull().sum() #No null values or missing values"
   ]
  },
  {
   "cell_type": "code",
   "execution_count": 6,
   "id": "8eb06386",
   "metadata": {},
   "outputs": [
    {
     "data": {
      "text/plain": [
       "RowNumber            int64\n",
       "CustomerId           int64\n",
       "Surname             object\n",
       "CreditScore          int64\n",
       "Geography           object\n",
       "Gender              object\n",
       "Age                  int64\n",
       "Tenure               int64\n",
       "Balance            float64\n",
       "NumOfProducts        int64\n",
       "HasCrCard            int64\n",
       "IsActiveMember       int64\n",
       "EstimatedSalary    float64\n",
       "Exited               int64\n",
       "dtype: object"
      ]
     },
     "execution_count": 6,
     "metadata": {},
     "output_type": "execute_result"
    }
   ],
   "source": [
    "dataset.dtypes"
   ]
  },
  {
   "cell_type": "code",
   "execution_count": 7,
   "id": "dd439820",
   "metadata": {},
   "outputs": [],
   "source": [
    "#Split the dataset into independent features (ie:X) and label (ie: Y)\n",
    "\n",
    "X = dataset.iloc[:,3:13]\n",
    "Y = dataset.iloc[:,13]"
   ]
  },
  {
   "cell_type": "code",
   "execution_count": 8,
   "id": "7958c42f",
   "metadata": {},
   "outputs": [],
   "source": [
    "#creat dummy variables\n",
    "geography = pd.get_dummies(X['Geography'],drop_first = True)\n",
    "gender = pd.get_dummies(X['Gender'],drop_first = True)\n"
   ]
  },
  {
   "cell_type": "code",
   "execution_count": 9,
   "id": "5cab9efd",
   "metadata": {},
   "outputs": [],
   "source": [
    "#concate the dataframes\n",
    "X = pd.concat([X,geography,gender],axis=1)"
   ]
  },
  {
   "cell_type": "code",
   "execution_count": 10,
   "id": "f1474b36",
   "metadata": {},
   "outputs": [],
   "source": [
    "#remove unnecessary columns\n",
    "X= X.drop(['Geography','Gender'],axis=1)"
   ]
  },
  {
   "cell_type": "code",
   "execution_count": 11,
   "id": "6a4fc0e1",
   "metadata": {},
   "outputs": [],
   "source": [
    "# splitting the dataset into training set and test set\n",
    "from sklearn.model_selection import train_test_split\n",
    "X_train, X_test, Y_train, Y_test = train_test_split(X,Y,test_size = 0.2, random_state=0)\n"
   ]
  },
  {
   "cell_type": "markdown",
   "id": "4b97e83d",
   "metadata": {},
   "source": [
    "# feature scaling\n"
   ]
  },
  {
   "cell_type": "code",
   "execution_count": 12,
   "id": "47c27c8e",
   "metadata": {},
   "outputs": [],
   "source": [
    "from sklearn.preprocessing import StandardScaler\n",
    "scaler = StandardScaler()\n",
    "X_train = scaler.fit_transform(X_train)\n",
    "X_test = scaler.transform(X_test)"
   ]
  },
  {
   "cell_type": "code",
   "execution_count": 13,
   "id": "13c0859a",
   "metadata": {},
   "outputs": [
    {
     "data": {
      "text/plain": [
       "array([[ 0.16958176, -0.46460796,  0.00666099, ..., -0.5698444 ,\n",
       "         1.74309049, -1.09168714],\n",
       "       [-2.30455945,  0.30102557, -1.37744033, ...,  1.75486502,\n",
       "        -0.57369368,  0.91601335],\n",
       "       [-1.19119591, -0.94312892, -1.031415  , ..., -0.5698444 ,\n",
       "        -0.57369368, -1.09168714],\n",
       "       ...,\n",
       "       [ 0.9015152 , -0.36890377,  0.00666099, ..., -0.5698444 ,\n",
       "        -0.57369368,  0.91601335],\n",
       "       [-0.62420521, -0.08179119,  1.39076231, ..., -0.5698444 ,\n",
       "         1.74309049, -1.09168714],\n",
       "       [-0.28401079,  0.87525072, -1.37744033, ...,  1.75486502,\n",
       "        -0.57369368, -1.09168714]])"
      ]
     },
     "execution_count": 13,
     "metadata": {},
     "output_type": "execute_result"
    }
   ],
   "source": [
    "X_train"
   ]
  },
  {
   "cell_type": "code",
   "execution_count": 14,
   "id": "d7b53eea",
   "metadata": {},
   "outputs": [
    {
     "data": {
      "text/plain": [
       "array([[-0.55204276, -0.36890377,  1.04473698, ...,  1.75486502,\n",
       "        -0.57369368, -1.09168714],\n",
       "       [-1.31490297,  0.10961719, -1.031415  , ..., -0.5698444 ,\n",
       "        -0.57369368, -1.09168714],\n",
       "       [ 0.57162971,  0.30102557,  1.04473698, ..., -0.5698444 ,\n",
       "         1.74309049, -1.09168714],\n",
       "       ...,\n",
       "       [-0.74791227, -0.27319958, -1.37744033, ..., -0.5698444 ,\n",
       "         1.74309049,  0.91601335],\n",
       "       [-0.00566991, -0.46460796, -0.33936434, ...,  1.75486502,\n",
       "        -0.57369368,  0.91601335],\n",
       "       [-0.79945688, -0.84742473,  1.04473698, ...,  1.75486502,\n",
       "        -0.57369368,  0.91601335]])"
      ]
     },
     "execution_count": 14,
     "metadata": {},
     "output_type": "execute_result"
    }
   ],
   "source": [
    "X_test"
   ]
  },
  {
   "cell_type": "markdown",
   "id": "2818531d",
   "metadata": {},
   "source": [
    "# Define ANN Model"
   ]
  },
  {
   "cell_type": "code",
   "execution_count": 15,
   "id": "2c7c1288",
   "metadata": {},
   "outputs": [],
   "source": [
    "# Importing the keras libraries and packages\n",
    "import keras\n",
    "from keras.models import Sequential\n",
    "from keras.layers import Dense\n",
    "from keras.layers import LeakyReLU,PReLU,ELU\n",
    "from keras.layers import Dropout\n"
   ]
  },
  {
   "cell_type": "code",
   "execution_count": 16,
   "id": "766bcb59",
   "metadata": {},
   "outputs": [],
   "source": [
    "#Initializing  the ANN\n",
    "classifier = Sequential()"
   ]
  },
  {
   "cell_type": "code",
   "execution_count": 17,
   "id": "69b11aaf",
   "metadata": {},
   "outputs": [],
   "source": [
    "#adding the input layer and the first hidden layer\n",
    "classifier.add(Dense(6, activation='relu', input_dim=11))\n",
    "#adding second hidden layer\n",
    "classifier.add(Dense(6, activation='relu'))\n",
    "# classifier.add(Dense(15, activation='relu'))\n",
    "#adding output layer\n",
    "classifier.add(Dense(1, activation='sigmoid'))\n",
    "                     "
   ]
  },
  {
   "cell_type": "code",
   "execution_count": 18,
   "id": "0796e355",
   "metadata": {},
   "outputs": [
    {
     "name": "stdout",
     "output_type": "stream",
     "text": [
      "Model: \"sequential\"\n",
      "_________________________________________________________________\n",
      "Layer (type)                 Output Shape              Param #   \n",
      "=================================================================\n",
      "dense (Dense)                (None, 6)                 72        \n",
      "_________________________________________________________________\n",
      "dense_1 (Dense)              (None, 6)                 42        \n",
      "_________________________________________________________________\n",
      "dense_2 (Dense)              (None, 1)                 7         \n",
      "=================================================================\n",
      "Total params: 121\n",
      "Trainable params: 121\n",
      "Non-trainable params: 0\n",
      "_________________________________________________________________\n"
     ]
    }
   ],
   "source": [
    "classifier.summary()"
   ]
  },
  {
   "cell_type": "code",
   "execution_count": 19,
   "id": "fc9fe815",
   "metadata": {},
   "outputs": [],
   "source": [
    "#complie the ANN\n",
    "classifier.compile(optimizer='Adamax', loss='binary_crossentropy', metrics=['accuracy'])"
   ]
  },
  {
   "cell_type": "code",
   "execution_count": 20,
   "id": "15658814",
   "metadata": {},
   "outputs": [
    {
     "name": "stdout",
     "output_type": "stream",
     "text": [
      "Epoch 1/100\n",
      "536/536 [==============================] - ETA: 0s - loss: 0.7019 - accuracy: 0.5555WARNING:tensorflow:Callbacks method `on_test_batch_end` is slow compared to the batch time (batch time: 0.0000s vs `on_test_batch_end` time: 0.0040s). Check your callbacks.\n",
      "536/536 [==============================] - 2s 3ms/step - loss: 0.7019 - accuracy: 0.5555 - val_loss: 0.5831 - val_accuracy: 0.7902\n",
      "Epoch 2/100\n",
      "536/536 [==============================] - 1s 2ms/step - loss: 0.5445 - accuracy: 0.7953 - val_loss: 0.5132 - val_accuracy: 0.7955\n",
      "Epoch 3/100\n",
      "536/536 [==============================] - 1s 2ms/step - loss: 0.5050 - accuracy: 0.7962 - val_loss: 0.4904 - val_accuracy: 0.7955\n",
      "Epoch 4/100\n",
      "536/536 [==============================] - 1s 2ms/step - loss: 0.4840 - accuracy: 0.7960 - val_loss: 0.4742 - val_accuracy: 0.7974\n",
      "Epoch 5/100\n",
      "536/536 [==============================] - 1s 2ms/step - loss: 0.4663 - accuracy: 0.8022 - val_loss: 0.4600 - val_accuracy: 0.8020\n",
      "Epoch 6/100\n",
      "536/536 [==============================] - 1s 2ms/step - loss: 0.4519 - accuracy: 0.8063 - val_loss: 0.4500 - val_accuracy: 0.8088\n",
      "Epoch 7/100\n",
      "536/536 [==============================] - 1s 2ms/step - loss: 0.4414 - accuracy: 0.8115 - val_loss: 0.4427 - val_accuracy: 0.8111\n",
      "Epoch 8/100\n",
      "536/536 [==============================] - 1s 2ms/step - loss: 0.4337 - accuracy: 0.8164 - val_loss: 0.4375 - val_accuracy: 0.8133\n",
      "Epoch 9/100\n",
      "536/536 [==============================] - 1s 2ms/step - loss: 0.4281 - accuracy: 0.8201 - val_loss: 0.4335 - val_accuracy: 0.8164\n",
      "Epoch 10/100\n",
      "536/536 [==============================] - 1s 2ms/step - loss: 0.4238 - accuracy: 0.8214 - val_loss: 0.4303 - val_accuracy: 0.8164\n",
      "Epoch 11/100\n",
      "536/536 [==============================] - 1s 2ms/step - loss: 0.4204 - accuracy: 0.8229 - val_loss: 0.4280 - val_accuracy: 0.8175\n",
      "Epoch 12/100\n",
      "536/536 [==============================] - 1s 2ms/step - loss: 0.4178 - accuracy: 0.8212 - val_loss: 0.4255 - val_accuracy: 0.8186\n",
      "Epoch 13/100\n",
      "536/536 [==============================] - 1s 2ms/step - loss: 0.4153 - accuracy: 0.8218 - val_loss: 0.4235 - val_accuracy: 0.8171\n",
      "Epoch 14/100\n",
      "536/536 [==============================] - 1s 2ms/step - loss: 0.4130 - accuracy: 0.8238 - val_loss: 0.4216 - val_accuracy: 0.8186\n",
      "Epoch 15/100\n",
      "536/536 [==============================] - 1s 2ms/step - loss: 0.4108 - accuracy: 0.8225 - val_loss: 0.4195 - val_accuracy: 0.8183\n",
      "Epoch 16/100\n",
      "536/536 [==============================] - 1s 2ms/step - loss: 0.4084 - accuracy: 0.8231 - val_loss: 0.4173 - val_accuracy: 0.8179\n",
      "Epoch 17/100\n",
      "536/536 [==============================] - 1s 2ms/step - loss: 0.4059 - accuracy: 0.8229 - val_loss: 0.4147 - val_accuracy: 0.8175\n",
      "Epoch 18/100\n",
      "536/536 [==============================] - 1s 2ms/step - loss: 0.4032 - accuracy: 0.8248 - val_loss: 0.4118 - val_accuracy: 0.8175\n",
      "Epoch 19/100\n",
      "536/536 [==============================] - 1s 2ms/step - loss: 0.4004 - accuracy: 0.8233 - val_loss: 0.4092 - val_accuracy: 0.8194\n",
      "Epoch 20/100\n",
      "536/536 [==============================] - 1s 2ms/step - loss: 0.3972 - accuracy: 0.8248 - val_loss: 0.4065 - val_accuracy: 0.8209\n",
      "Epoch 21/100\n",
      "536/536 [==============================] - 1s 2ms/step - loss: 0.3940 - accuracy: 0.8248 - val_loss: 0.4036 - val_accuracy: 0.8213\n",
      "Epoch 22/100\n",
      "536/536 [==============================] - 1s 2ms/step - loss: 0.3909 - accuracy: 0.8246 - val_loss: 0.4007 - val_accuracy: 0.8224\n",
      "Epoch 23/100\n",
      "536/536 [==============================] - 1s 3ms/step - loss: 0.3878 - accuracy: 0.8246 - val_loss: 0.3980 - val_accuracy: 0.8243\n",
      "Epoch 24/100\n",
      "536/536 [==============================] - 1s 3ms/step - loss: 0.3851 - accuracy: 0.8257 - val_loss: 0.3955 - val_accuracy: 0.8270\n",
      "Epoch 25/100\n",
      "536/536 [==============================] - 1s 3ms/step - loss: 0.3824 - accuracy: 0.8289 - val_loss: 0.3930 - val_accuracy: 0.8277\n",
      "Epoch 26/100\n",
      "536/536 [==============================] - 1s 2ms/step - loss: 0.3798 - accuracy: 0.8324 - val_loss: 0.3905 - val_accuracy: 0.8304\n",
      "Epoch 27/100\n",
      "536/536 [==============================] - 1s 2ms/step - loss: 0.3771 - accuracy: 0.8382 - val_loss: 0.3880 - val_accuracy: 0.8326\n",
      "Epoch 28/100\n",
      "536/536 [==============================] - 1s 2ms/step - loss: 0.3746 - accuracy: 0.8391 - val_loss: 0.3858 - val_accuracy: 0.8345\n",
      "Epoch 29/100\n",
      "536/536 [==============================] - 1s 3ms/step - loss: 0.3721 - accuracy: 0.8414 - val_loss: 0.3835 - val_accuracy: 0.8391\n",
      "Epoch 30/100\n",
      "536/536 [==============================] - 1s 2ms/step - loss: 0.3696 - accuracy: 0.8464 - val_loss: 0.3815 - val_accuracy: 0.8417\n",
      "Epoch 31/100\n",
      "536/536 [==============================] - 1s 2ms/step - loss: 0.3675 - accuracy: 0.8490 - val_loss: 0.3797 - val_accuracy: 0.8444\n",
      "Epoch 32/100\n",
      "536/536 [==============================] - 1s 2ms/step - loss: 0.3656 - accuracy: 0.8490 - val_loss: 0.3781 - val_accuracy: 0.8448\n",
      "Epoch 33/100\n",
      "536/536 [==============================] - 1s 3ms/step - loss: 0.3637 - accuracy: 0.8509 - val_loss: 0.3767 - val_accuracy: 0.8451\n",
      "Epoch 34/100\n",
      "536/536 [==============================] - 1s 2ms/step - loss: 0.3618 - accuracy: 0.8526 - val_loss: 0.3755 - val_accuracy: 0.8455\n",
      "Epoch 35/100\n",
      "536/536 [==============================] - 1s 3ms/step - loss: 0.3603 - accuracy: 0.8515 - val_loss: 0.3741 - val_accuracy: 0.8485\n",
      "Epoch 36/100\n",
      "536/536 [==============================] - 1s 3ms/step - loss: 0.3586 - accuracy: 0.8548 - val_loss: 0.3730 - val_accuracy: 0.8474\n",
      "Epoch 37/100\n",
      "536/536 [==============================] - 1s 2ms/step - loss: 0.3573 - accuracy: 0.8548 - val_loss: 0.3714 - val_accuracy: 0.8485\n",
      "Epoch 38/100\n",
      "536/536 [==============================] - 1s 2ms/step - loss: 0.3557 - accuracy: 0.8546 - val_loss: 0.3700 - val_accuracy: 0.8504\n",
      "Epoch 39/100\n",
      "536/536 [==============================] - 1s 2ms/step - loss: 0.3541 - accuracy: 0.8552 - val_loss: 0.3692 - val_accuracy: 0.8512\n",
      "Epoch 40/100\n",
      "536/536 [==============================] - 1s 3ms/step - loss: 0.3530 - accuracy: 0.8576 - val_loss: 0.3682 - val_accuracy: 0.8527\n",
      "Epoch 41/100\n",
      "536/536 [==============================] - 1s 2ms/step - loss: 0.3519 - accuracy: 0.8561 - val_loss: 0.3670 - val_accuracy: 0.8531\n",
      "Epoch 42/100\n",
      "536/536 [==============================] - 1s 2ms/step - loss: 0.3508 - accuracy: 0.8582 - val_loss: 0.3658 - val_accuracy: 0.8538\n",
      "Epoch 43/100\n",
      "536/536 [==============================] - 1s 3ms/step - loss: 0.3496 - accuracy: 0.8572 - val_loss: 0.3651 - val_accuracy: 0.8527\n",
      "Epoch 44/100\n",
      "536/536 [==============================] - 1s 3ms/step - loss: 0.3485 - accuracy: 0.8569 - val_loss: 0.3642 - val_accuracy: 0.8531\n",
      "Epoch 45/100\n",
      "536/536 [==============================] - 1s 3ms/step - loss: 0.3476 - accuracy: 0.8593 - val_loss: 0.3635 - val_accuracy: 0.8550\n",
      "Epoch 46/100\n",
      "536/536 [==============================] - 1s 3ms/step - loss: 0.3467 - accuracy: 0.8600 - val_loss: 0.3626 - val_accuracy: 0.8535\n",
      "Epoch 47/100\n",
      "536/536 [==============================] - 1s 2ms/step - loss: 0.3458 - accuracy: 0.8600 - val_loss: 0.3618 - val_accuracy: 0.8523\n",
      "Epoch 48/100\n",
      "536/536 [==============================] - 1s 2ms/step - loss: 0.3449 - accuracy: 0.8602 - val_loss: 0.3615 - val_accuracy: 0.8523\n",
      "Epoch 49/100\n",
      "536/536 [==============================] - 1s 3ms/step - loss: 0.3441 - accuracy: 0.8602 - val_loss: 0.3607 - val_accuracy: 0.8535\n",
      "Epoch 50/100\n",
      "536/536 [==============================] - 1s 2ms/step - loss: 0.3434 - accuracy: 0.8606 - val_loss: 0.3599 - val_accuracy: 0.8554\n",
      "Epoch 51/100\n",
      "536/536 [==============================] - 1s 2ms/step - loss: 0.3424 - accuracy: 0.8627 - val_loss: 0.3595 - val_accuracy: 0.8554\n",
      "Epoch 52/100\n",
      "536/536 [==============================] - 1s 3ms/step - loss: 0.3418 - accuracy: 0.8615 - val_loss: 0.3588 - val_accuracy: 0.8569\n",
      "Epoch 53/100\n",
      "536/536 [==============================] - 1s 2ms/step - loss: 0.3412 - accuracy: 0.8617 - val_loss: 0.3586 - val_accuracy: 0.8569\n",
      "Epoch 54/100\n",
      "536/536 [==============================] - 1s 2ms/step - loss: 0.3409 - accuracy: 0.8632 - val_loss: 0.3581 - val_accuracy: 0.8561\n",
      "Epoch 55/100\n",
      "536/536 [==============================] - 1s 3ms/step - loss: 0.3402 - accuracy: 0.8612 - val_loss: 0.3576 - val_accuracy: 0.8569\n",
      "Epoch 56/100\n"
     ]
    },
    {
     "name": "stdout",
     "output_type": "stream",
     "text": [
      "536/536 [==============================] - 1s 3ms/step - loss: 0.3397 - accuracy: 0.8623 - val_loss: 0.3574 - val_accuracy: 0.8557\n",
      "Epoch 57/100\n",
      "536/536 [==============================] - 1s 3ms/step - loss: 0.3393 - accuracy: 0.8617 - val_loss: 0.3570 - val_accuracy: 0.8561\n",
      "Epoch 58/100\n",
      "536/536 [==============================] - 1s 2ms/step - loss: 0.3388 - accuracy: 0.8623 - val_loss: 0.3567 - val_accuracy: 0.8569\n",
      "Epoch 59/100\n",
      "536/536 [==============================] - 1s 2ms/step - loss: 0.3385 - accuracy: 0.8636 - val_loss: 0.3564 - val_accuracy: 0.8576\n",
      "Epoch 60/100\n",
      "536/536 [==============================] - 1s 3ms/step - loss: 0.3380 - accuracy: 0.8623 - val_loss: 0.3560 - val_accuracy: 0.8569\n",
      "Epoch 61/100\n",
      "536/536 [==============================] - 1s 3ms/step - loss: 0.3377 - accuracy: 0.8615 - val_loss: 0.3561 - val_accuracy: 0.8584\n",
      "Epoch 62/100\n",
      "536/536 [==============================] - 1s 3ms/step - loss: 0.3371 - accuracy: 0.8634 - val_loss: 0.3558 - val_accuracy: 0.8573\n",
      "Epoch 63/100\n",
      "536/536 [==============================] - 1s 2ms/step - loss: 0.3370 - accuracy: 0.8627 - val_loss: 0.3558 - val_accuracy: 0.8569\n",
      "Epoch 64/100\n",
      "536/536 [==============================] - 1s 3ms/step - loss: 0.3365 - accuracy: 0.8610 - val_loss: 0.3552 - val_accuracy: 0.8573\n",
      "Epoch 65/100\n",
      "536/536 [==============================] - 1s 3ms/step - loss: 0.3360 - accuracy: 0.8619 - val_loss: 0.3551 - val_accuracy: 0.8569\n",
      "Epoch 66/100\n",
      "536/536 [==============================] - 1s 3ms/step - loss: 0.3359 - accuracy: 0.8638 - val_loss: 0.3548 - val_accuracy: 0.8580\n",
      "Epoch 67/100\n",
      "536/536 [==============================] - 1s 3ms/step - loss: 0.3355 - accuracy: 0.8608 - val_loss: 0.3565 - val_accuracy: 0.8584\n",
      "Epoch 68/100\n",
      "536/536 [==============================] - 2s 3ms/step - loss: 0.3357 - accuracy: 0.8619 - val_loss: 0.3548 - val_accuracy: 0.8580\n",
      "Epoch 69/100\n",
      "536/536 [==============================] - 1s 2ms/step - loss: 0.3350 - accuracy: 0.8638 - val_loss: 0.3551 - val_accuracy: 0.8588\n",
      "Epoch 70/100\n",
      "536/536 [==============================] - 1s 2ms/step - loss: 0.3347 - accuracy: 0.8628 - val_loss: 0.3548 - val_accuracy: 0.8588\n",
      "Epoch 71/100\n",
      "536/536 [==============================] - 1s 2ms/step - loss: 0.3347 - accuracy: 0.8617 - val_loss: 0.3550 - val_accuracy: 0.8588\n",
      "Epoch 72/100\n",
      "536/536 [==============================] - 1s 3ms/step - loss: 0.3347 - accuracy: 0.8630 - val_loss: 0.3545 - val_accuracy: 0.8588\n",
      "Epoch 73/100\n",
      "536/536 [==============================] - 2s 3ms/step - loss: 0.3343 - accuracy: 0.8632 - val_loss: 0.3546 - val_accuracy: 0.8584\n",
      "Epoch 74/100\n",
      "536/536 [==============================] - 1s 3ms/step - loss: 0.3342 - accuracy: 0.8630 - val_loss: 0.3547 - val_accuracy: 0.8580\n",
      "Epoch 75/100\n",
      "536/536 [==============================] - 1s 2ms/step - loss: 0.3340 - accuracy: 0.8645 - val_loss: 0.3553 - val_accuracy: 0.8584\n",
      "Epoch 76/100\n",
      "536/536 [==============================] - 1s 2ms/step - loss: 0.3340 - accuracy: 0.8627 - val_loss: 0.3546 - val_accuracy: 0.8588\n",
      "Epoch 77/100\n",
      "536/536 [==============================] - 1s 2ms/step - loss: 0.3338 - accuracy: 0.8627 - val_loss: 0.3544 - val_accuracy: 0.8588\n",
      "Epoch 78/100\n",
      "536/536 [==============================] - 1s 3ms/step - loss: 0.3335 - accuracy: 0.8617 - val_loss: 0.3542 - val_accuracy: 0.8588\n",
      "Epoch 79/100\n",
      "536/536 [==============================] - 1s 3ms/step - loss: 0.3335 - accuracy: 0.8632 - val_loss: 0.3543 - val_accuracy: 0.8595\n",
      "Epoch 80/100\n",
      "536/536 [==============================] - 2s 3ms/step - loss: 0.3334 - accuracy: 0.8640 - val_loss: 0.3545 - val_accuracy: 0.8591\n",
      "Epoch 81/100\n",
      "536/536 [==============================] - 1s 3ms/step - loss: 0.3332 - accuracy: 0.8634 - val_loss: 0.3546 - val_accuracy: 0.8595\n",
      "Epoch 82/100\n",
      "536/536 [==============================] - 1s 3ms/step - loss: 0.3328 - accuracy: 0.8617 - val_loss: 0.3546 - val_accuracy: 0.8573\n",
      "Epoch 83/100\n",
      "536/536 [==============================] - 1s 3ms/step - loss: 0.3330 - accuracy: 0.8623 - val_loss: 0.3544 - val_accuracy: 0.8591\n",
      "Epoch 84/100\n",
      "536/536 [==============================] - 1s 2ms/step - loss: 0.3330 - accuracy: 0.8628 - val_loss: 0.3544 - val_accuracy: 0.8584\n",
      "Epoch 85/100\n",
      "536/536 [==============================] - 1s 2ms/step - loss: 0.3325 - accuracy: 0.8628 - val_loss: 0.3551 - val_accuracy: 0.8599\n",
      "Epoch 86/100\n",
      "536/536 [==============================] - 1s 2ms/step - loss: 0.3329 - accuracy: 0.8630 - val_loss: 0.3545 - val_accuracy: 0.8599\n",
      "Epoch 87/100\n",
      "536/536 [==============================] - 1s 2ms/step - loss: 0.3327 - accuracy: 0.8638 - val_loss: 0.3546 - val_accuracy: 0.8591\n",
      "Epoch 88/100\n",
      "536/536 [==============================] - 1s 2ms/step - loss: 0.3328 - accuracy: 0.8634 - val_loss: 0.3540 - val_accuracy: 0.8595\n",
      "Epoch 89/100\n",
      "536/536 [==============================] - 1s 2ms/step - loss: 0.3324 - accuracy: 0.8638 - val_loss: 0.3541 - val_accuracy: 0.8580\n",
      "Epoch 90/100\n",
      "536/536 [==============================] - 1s 2ms/step - loss: 0.3324 - accuracy: 0.8653 - val_loss: 0.3547 - val_accuracy: 0.8591\n",
      "Epoch 91/100\n",
      "536/536 [==============================] - 1s 3ms/step - loss: 0.3322 - accuracy: 0.8628 - val_loss: 0.3547 - val_accuracy: 0.8595\n",
      "Epoch 92/100\n",
      "536/536 [==============================] - 1s 2ms/step - loss: 0.3322 - accuracy: 0.8630 - val_loss: 0.3542 - val_accuracy: 0.8607\n",
      "Epoch 93/100\n",
      "536/536 [==============================] - 1s 3ms/step - loss: 0.3319 - accuracy: 0.8621 - val_loss: 0.3546 - val_accuracy: 0.8599\n",
      "Epoch 94/100\n",
      "536/536 [==============================] - 1s 2ms/step - loss: 0.3319 - accuracy: 0.8630 - val_loss: 0.3550 - val_accuracy: 0.8595\n",
      "Epoch 95/100\n",
      "536/536 [==============================] - 1s 2ms/step - loss: 0.3321 - accuracy: 0.8615 - val_loss: 0.3541 - val_accuracy: 0.8595\n",
      "Epoch 96/100\n",
      "536/536 [==============================] - 1s 2ms/step - loss: 0.3320 - accuracy: 0.8656 - val_loss: 0.3548 - val_accuracy: 0.8603\n",
      "Epoch 97/100\n",
      "536/536 [==============================] - 1s 2ms/step - loss: 0.3320 - accuracy: 0.8642 - val_loss: 0.3545 - val_accuracy: 0.8588\n",
      "Epoch 98/100\n",
      "536/536 [==============================] - 1s 2ms/step - loss: 0.3318 - accuracy: 0.8643 - val_loss: 0.3544 - val_accuracy: 0.8607\n",
      "Epoch 99/100\n",
      "536/536 [==============================] - 2s 3ms/step - loss: 0.3317 - accuracy: 0.8643 - val_loss: 0.3546 - val_accuracy: 0.8591\n",
      "Epoch 100/100\n",
      "536/536 [==============================] - 1s 2ms/step - loss: 0.3313 - accuracy: 0.8634 - val_loss: 0.3565 - val_accuracy: 0.8576\n"
     ]
    }
   ],
   "source": [
    "# fit the model\n",
    "history = classifier.fit(X_train, Y_train, epochs=100, batch_size=10, validation_split=0.33)"
   ]
  },
  {
   "cell_type": "code",
   "execution_count": 29,
   "id": "4d4457d8",
   "metadata": {},
   "outputs": [
    {
     "name": "stdout",
     "output_type": "stream",
     "text": [
      "dict_keys(['loss', 'accuracy', 'val_loss', 'val_accuracy'])\n"
     ]
    }
   ],
   "source": [
    "# list all data in history\n",
    "print(history.history.keys())"
   ]
  },
  {
   "cell_type": "code",
   "execution_count": 30,
   "id": "22627e32",
   "metadata": {},
   "outputs": [
    {
     "name": "stdout",
     "output_type": "stream",
     "text": [
      "Test Accuracy: 0.859\n"
     ]
    }
   ],
   "source": [
    "# evaluate the model\n",
    "loss, acc = classifier.evaluate(X_test, Y_test,verbose=0)\n",
    "print('Test Accuracy: %.3f' % acc)"
   ]
  },
  {
   "cell_type": "code",
   "execution_count": 31,
   "id": "8c1e2b34",
   "metadata": {},
   "outputs": [
    {
     "data": {
      "image/png": "[encoded data removed]",
      "text/plain": [
       "<Figure size 432x288 with 1 Axes>"
      ]
     },
     "metadata": {
      "needs_background": "light"
     },
     "output_type": "display_data"
    }
   ],
   "source": [
    "#summarize the history for accuracy\n",
    "\n",
    "plt.plot(history.history['accuracy'])\n",
    "plt.plot(history.history['val_accuracy'])\n",
    "plt.title('model accuracy')\n",
    "plt.ylabel('accuracy')\n",
    "plt.xlabel('epoch')\n",
    "plt.legend(['train','test'],loc='upper left')\n",
    "plt.show()"
   ]
  },
  {
   "cell_type": "code",
   "execution_count": 32,
   "id": "79fe665b",
   "metadata": {},
   "outputs": [
    {
     "data": {
      "image/png": "[encoded data removed]",
      "text/plain": [
       "<Figure size 432x288 with 1 Axes>"
      ]
     },
     "metadata": {
      "needs_background": "light"
     },
     "output_type": "display_data"
    }
   ],
   "source": [
    "#summarize the history for loss\n",
    "\n",
    "plt.plot(history.history['loss'])\n",
    "plt.plot(history.history['val_loss'])\n",
    "plt.title('model loss')\n",
    "plt.ylabel('loss')\n",
    "plt.xlabel('epoch')\n",
    "plt.legend(['train','test'],loc='upper left')\n",
    "plt.show()"
   ]
  },
  {
   "cell_type": "code",
   "execution_count": 33,
   "id": "dc1864cf",
   "metadata": {},
   "outputs": [],
   "source": [
    "# Making the predictions and evaluating the model\n",
    "Y_predict =classifier.predict(X_test)\n",
    "Y_predict =( Y_predict>0.5)"
   ]
  },
  {
   "cell_type": "code",
   "execution_count": 34,
   "id": "5e14cf3c",
   "metadata": {},
   "outputs": [],
   "source": [
    "from sklearn.metrics import confusion_matrix\n",
    "cm = confusion_matrix(Y_test, Y_predict)\n"
   ]
  },
  {
   "cell_type": "code",
   "execution_count": 35,
   "id": "49f6177b",
   "metadata": {},
   "outputs": [
    {
     "data": {
      "text/plain": [
       "array([[1488,  107],\n",
       "       [ 176,  229]], dtype=int64)"
      ]
     },
     "execution_count": 35,
     "metadata": {},
     "output_type": "execute_result"
    }
   ],
   "source": [
    "cm"
   ]
  },
  {
   "cell_type": "code",
   "execution_count": 36,
   "id": "b73f922a",
   "metadata": {},
   "outputs": [
    {
     "name": "stdout",
     "output_type": "stream",
     "text": [
      "accuracy of test data 0.8585\n"
     ]
    }
   ],
   "source": [
    "# Calculate the matrix\n",
    "from sklearn.metrics import accuracy_score\n",
    "score =  accuracy_score(Y_predict,Y_test)\n",
    "print(\"accuracy of test data\",score)"
   ]
  }
 ],
 "metadata": {
  "kernelspec": {
   "display_name": "Python 3",
   "language": "python",
   "name": "python3"
  },
  "language_info": {
   "codemirror_mode": {
    "name": "ipython",
    "version": 3
   },
   "file_extension": ".py",
   "mimetype": "text/x-python",
   "name": "python",
   "nbconvert_exporter": "python",
   "pygments_lexer": "ipython3",
   "version": "3.8.10"
  }
 },
 "nbformat": 4,
 "nbformat_minor": 5
}
